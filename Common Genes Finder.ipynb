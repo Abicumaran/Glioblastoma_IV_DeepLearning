{
 "cells": [
  {
   "cell_type": "code",
   "execution_count": 6,
   "id": "d36997cb",
   "metadata": {},
   "outputs": [
    {
     "name": "stdout",
     "output_type": "stream",
     "text": [
      "There are 21 names shared between the two files.\n",
      "The common names are:\n",
      "C3\n",
      "CX3CR1\n",
      "LAPTM5\n",
      "VSIG4\n",
      "CD53\n",
      "MS4A6A\n",
      "HLA-DRA\n",
      "CCL3\n",
      "C1QB\n",
      "FCER1G\n",
      "HLA-DPA1\n",
      "CD14\n",
      "TREM2\n",
      "HLA-DRB1\n",
      "FCGR3A\n",
      "RGS1\n",
      "C1QC\n",
      "ITGB2\n",
      "C1QA\n",
      "HLA-DQA1\n",
      "TYROBP\n"
     ]
    }
   ],
   "source": [
    "import pandas as pd\n",
    "\n",
    "# Read the CSV files\n",
    "ip1 = pd.read_csv('IP1.csv')\n",
    "ip2 = pd.read_csv('IP2.csv')\n",
    "\n",
    "# Convert the columns to sets for efficient comparison\n",
    "names_ip1 = set(ip1.iloc[:, 0])\n",
    "names_ip2 = set(ip2.iloc[:, 0])\n",
    "\n",
    "# Find common names\n",
    "common_names = names_ip1.intersection(names_ip2)\n",
    "\n",
    "# Output the results\n",
    "print(f'There are {len(common_names)} names shared between the two files.')\n",
    "print('The common names are:')\n",
    "for name in common_names:\n",
    "    print(name)\n"
   ]
  },
  {
   "cell_type": "code",
   "execution_count": null,
   "id": "3e82f3a2",
   "metadata": {},
   "outputs": [],
   "source": []
  }
 ],
 "metadata": {
  "kernelspec": {
   "display_name": "Python 3 (ipykernel)",
   "language": "python",
   "name": "python3"
  },
  "language_info": {
   "codemirror_mode": {
    "name": "ipython",
    "version": 3
   },
   "file_extension": ".py",
   "mimetype": "text/x-python",
   "name": "python",
   "nbconvert_exporter": "python",
   "pygments_lexer": "ipython3",
   "version": "3.9.7"
  }
 },
 "nbformat": 4,
 "nbformat_minor": 5
}
